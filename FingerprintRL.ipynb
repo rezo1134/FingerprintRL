{
 "cells": [
  {
   "cell_type": "markdown",
   "id": "c03b397d-fccc-46d2-aa4f-7451c74017df",
   "metadata": {},
   "source": [
    " # Imports and Dependencies"
   ]
  },
  {
   "cell_type": "code",
   "execution_count": 1,
   "id": "32a57cd3-94fe-453f-ae8e-2bd779ac9447",
   "metadata": {
    "tags": []
   },
   "outputs": [],
   "source": [
    "import io\n",
    "import numpy as np\n",
    "import pandas as pd\n",
    "import plotly.express as px\n",
    "import pymongo\n",
    "import tqdm.auto as tqdm\n",
    "\n",
    "spike_range = namedtuple(\"spike_range\", [\"min\",\"max\"])"
   ]
  },
  {
   "cell_type": "markdown",
   "id": "c3ccfd74-6e86-48d4-aab6-c121c0262b85",
   "metadata": {},
   "source": [
    "# Connect to Mongo"
   ]
  },
  {
   "cell_type": "code",
   "execution_count": 2,
   "id": "47d5faec-7155-4d06-8974-4f1cbe4ad38f",
   "metadata": {
    "tags": []
   },
   "outputs": [],
   "source": [
    "mongo = pymongo.MongoClient(\"\")['fingerprints']['training']"
   ]
  },
  {
   "cell_type": "code",
   "execution_count": 3,
   "id": "3e5ea766-c68c-437d-9de6-d6b1b515db4c",
   "metadata": {},
   "outputs": [],
   "source": [
    "mongo = mongo['fingerprints']['training']"
   ]
  },
  {
   "cell_type": "code",
   "execution_count": 42,
   "id": "f93369ee-7a71-4b76-b3f1-5bdd345a5ddc",
   "metadata": {
    "tags": []
   },
   "outputs": [
    {
     "ename": "ValueError",
     "evalue": "not enough image data",
     "output_type": "error",
     "traceback": [
      "\u001b[0;31m---------------------------------------------------------------------------\u001b[0m",
      "\u001b[0;31mValueError\u001b[0m                                Traceback (most recent call last)",
      "Cell \u001b[0;32mIn[42], line 1\u001b[0m\n\u001b[0;32m----> 1\u001b[0m \u001b[43mImage\u001b[49m\u001b[38;5;241;43m.\u001b[39;49m\u001b[43mfrombytes\u001b[49m\u001b[43m(\u001b[49m\u001b[38;5;124;43m\"\u001b[39;49m\u001b[38;5;124;43mRGB\u001b[39;49m\u001b[38;5;124;43m\"\u001b[39;49m\u001b[43m,\u001b[49m\u001b[43msize\u001b[49m\u001b[38;5;241;43m=\u001b[39;49m\u001b[43m(\u001b[49m\u001b[38;5;241;43m1024\u001b[39;49m\u001b[43m,\u001b[49m\u001b[38;5;241;43m1024\u001b[39;49m\u001b[43m)\u001b[49m\u001b[43m,\u001b[49m\u001b[43mdata\u001b[49m\u001b[38;5;241;43m=\u001b[39;49m\u001b[43mp\u001b[49m\u001b[38;5;241;43m.\u001b[39;49m\u001b[43mto_image\u001b[49m\u001b[43m(\u001b[49m\u001b[43mwidth\u001b[49m\u001b[38;5;241;43m=\u001b[39;49m\u001b[38;5;241;43m1024\u001b[39;49m\u001b[43m,\u001b[49m\u001b[43m \u001b[49m\u001b[43mheight\u001b[49m\u001b[38;5;241;43m=\u001b[39;49m\u001b[38;5;241;43m1024\u001b[39;49m\u001b[43m)\u001b[49m\u001b[43m)\u001b[49m\n",
      "File \u001b[0;32m/opt/conda/lib/python3.10/site-packages/PIL/Image.py:2969\u001b[0m, in \u001b[0;36mfrombytes\u001b[0;34m(mode, size, data, decoder_name, *args)\u001b[0m\n\u001b[1;32m   2966\u001b[0m     args \u001b[38;5;241m=\u001b[39m mode\n\u001b[1;32m   2968\u001b[0m im \u001b[38;5;241m=\u001b[39m new(mode, size)\n\u001b[0;32m-> 2969\u001b[0m \u001b[43mim\u001b[49m\u001b[38;5;241;43m.\u001b[39;49m\u001b[43mfrombytes\u001b[49m\u001b[43m(\u001b[49m\u001b[43mdata\u001b[49m\u001b[43m,\u001b[49m\u001b[43m \u001b[49m\u001b[43mdecoder_name\u001b[49m\u001b[43m,\u001b[49m\u001b[43m \u001b[49m\u001b[43margs\u001b[49m\u001b[43m)\u001b[49m\n\u001b[1;32m   2970\u001b[0m \u001b[38;5;28;01mreturn\u001b[39;00m im\n",
      "File \u001b[0;32m/opt/conda/lib/python3.10/site-packages/PIL/Image.py:830\u001b[0m, in \u001b[0;36mImage.frombytes\u001b[0;34m(self, data, decoder_name, *args)\u001b[0m\n\u001b[1;32m    828\u001b[0m \u001b[38;5;28;01mif\u001b[39;00m s[\u001b[38;5;241m0\u001b[39m] \u001b[38;5;241m>\u001b[39m\u001b[38;5;241m=\u001b[39m \u001b[38;5;241m0\u001b[39m:\n\u001b[1;32m    829\u001b[0m     msg \u001b[38;5;241m=\u001b[39m \u001b[38;5;124m\"\u001b[39m\u001b[38;5;124mnot enough image data\u001b[39m\u001b[38;5;124m\"\u001b[39m\n\u001b[0;32m--> 830\u001b[0m     \u001b[38;5;28;01mraise\u001b[39;00m \u001b[38;5;167;01mValueError\u001b[39;00m(msg)\n\u001b[1;32m    831\u001b[0m \u001b[38;5;28;01mif\u001b[39;00m s[\u001b[38;5;241m1\u001b[39m] \u001b[38;5;241m!=\u001b[39m \u001b[38;5;241m0\u001b[39m:\n\u001b[1;32m    832\u001b[0m     msg \u001b[38;5;241m=\u001b[39m \u001b[38;5;124m\"\u001b[39m\u001b[38;5;124mcannot decode image data\u001b[39m\u001b[38;5;124m\"\u001b[39m\n",
      "\u001b[0;31mValueError\u001b[0m: not enough image data"
     ]
    }
   ],
   "source": [
    "Image.frombytes(\"RGB\",size=(1024,1024),data=p.to_image(width=1024, height=1024))"
   ]
  },
  {
   "cell_type": "markdown",
   "id": "3cdbaeff-5979-4cfd-a8ad-ec08dcc2fc6f",
   "metadata": {},
   "source": [
    "## Defining our parameters:\n",
    "    Action Space: The list of actions that the agent takes to modify the enviroment.\n",
    "    State Space: The current filtered tensor torch.FloatTensor(df[[col for col in df.columns if col.startswith(\"spike\")]].to_numpy())\n",
    "    For state space, I think we should go stateless since ideally the state returned by the DQN should continually shrink\n"
   ]
  },
  {
   "cell_type": "code",
   "execution_count": 30,
   "id": "5684e7ac-667f-4c9b-8f54-f19108bea93b",
   "metadata": {
    "tags": []
   },
   "outputs": [],
   "source": [
    "import gymnasium as gym\n",
    "import math\n",
    "import random\n",
    "import matplotlib\n",
    "import matplotlib.pyplot as plt\n",
    "from collections import namedtuple, deque\n",
    "from itertools import count\n",
    "\n",
    "import torch\n",
    "import torch.nn as nn\n",
    "import torch.optim as optim\n",
    "import torch.nn.functional as F\n"
   ]
  },
  {
   "cell_type": "code",
   "execution_count": null,
   "id": "9f812c18-21c4-4a1d-b7b4-08816f362b50",
   "metadata": {},
   "outputs": [],
   "source": [
    "class DeepQNetwork(nn.Module):\n",
    "    def __init__(self, ALPHA):\n",
    "        super(DeepQNetwork, self).__init__()\n",
    "        self.conv1 = nn.Conv2d(1, 32, 8, stride=4, padding=1)\n",
    "        self.conv2 = nn.Conv2d(32, 64, 4, stride=2)\n",
    "        self.conv3 = nn.Conv2d(64, 128, 3)\n",
    "        self.fc1 = nn.Linear(128*19*8, 512)\n",
    "        self.fc2 = nn.Linear(512,6)\n",
    "        \n",
    "        self.optimizer = optim.RMSprop(self.parameters(), lr=ALPHA)\n",
    "        self.loss = nn.MSELoss()\n",
    "        self.device = torch.device(\"cuda\" if torch.cuda.is_available() else \"cpu\")\n",
    "        self.to(self.device)\n",
    "        \n",
    "    def forward(self, observation):\n",
    "        observation = T.Tensor"
   ]
  },
  {
   "cell_type": "code",
   "execution_count": null,
   "id": "854309f3-4dac-45b5-8e3e-a01f60c4639b",
   "metadata": {},
   "outputs": [],
   "source": []
  },
  {
   "cell_type": "code",
   "execution_count": 37,
   "id": "d449aeec-4fe6-4433-977c-ee1991c40531",
   "metadata": {
    "tags": []
   },
   "outputs": [
    {
     "ename": "ValueError",
     "evalue": "not enough image data",
     "output_type": "error",
     "traceback": [
      "\u001b[0;31m---------------------------------------------------------------------------\u001b[0m",
      "\u001b[0;31mValueError\u001b[0m                                Traceback (most recent call last)",
      "Cell \u001b[0;32mIn[37], line 1\u001b[0m\n\u001b[0;32m----> 1\u001b[0m transforms\u001b[38;5;241m.\u001b[39mPILToTensor(\u001b[43mImage\u001b[49m\u001b[38;5;241;43m.\u001b[39;49m\u001b[43mfrombytes\u001b[49m\u001b[43m(\u001b[49m\u001b[38;5;124;43m\"\u001b[39;49m\u001b[38;5;124;43mRGB\u001b[39;49m\u001b[38;5;124;43m\"\u001b[39;49m\u001b[43m,\u001b[49m\u001b[43msize\u001b[49m\u001b[38;5;241;43m=\u001b[39;49m\u001b[43m(\u001b[49m\u001b[38;5;241;43m1024\u001b[39;49m\u001b[43m,\u001b[49m\u001b[38;5;241;43m1024\u001b[39;49m\u001b[43m)\u001b[49m\u001b[43m,\u001b[49m\u001b[43mdata\u001b[49m\u001b[38;5;241;43m=\u001b[39;49m\u001b[43mimg\u001b[49m\u001b[43m)\u001b[49m)\n",
      "File \u001b[0;32m/opt/conda/lib/python3.10/site-packages/PIL/Image.py:2969\u001b[0m, in \u001b[0;36mfrombytes\u001b[0;34m(mode, size, data, decoder_name, *args)\u001b[0m\n\u001b[1;32m   2966\u001b[0m     args \u001b[38;5;241m=\u001b[39m mode\n\u001b[1;32m   2968\u001b[0m im \u001b[38;5;241m=\u001b[39m new(mode, size)\n\u001b[0;32m-> 2969\u001b[0m \u001b[43mim\u001b[49m\u001b[38;5;241;43m.\u001b[39;49m\u001b[43mfrombytes\u001b[49m\u001b[43m(\u001b[49m\u001b[43mdata\u001b[49m\u001b[43m,\u001b[49m\u001b[43m \u001b[49m\u001b[43mdecoder_name\u001b[49m\u001b[43m,\u001b[49m\u001b[43m \u001b[49m\u001b[43margs\u001b[49m\u001b[43m)\u001b[49m\n\u001b[1;32m   2970\u001b[0m \u001b[38;5;28;01mreturn\u001b[39;00m im\n",
      "File \u001b[0;32m/opt/conda/lib/python3.10/site-packages/PIL/Image.py:830\u001b[0m, in \u001b[0;36mImage.frombytes\u001b[0;34m(self, data, decoder_name, *args)\u001b[0m\n\u001b[1;32m    828\u001b[0m \u001b[38;5;28;01mif\u001b[39;00m s[\u001b[38;5;241m0\u001b[39m] \u001b[38;5;241m>\u001b[39m\u001b[38;5;241m=\u001b[39m \u001b[38;5;241m0\u001b[39m:\n\u001b[1;32m    829\u001b[0m     msg \u001b[38;5;241m=\u001b[39m \u001b[38;5;124m\"\u001b[39m\u001b[38;5;124mnot enough image data\u001b[39m\u001b[38;5;124m\"\u001b[39m\n\u001b[0;32m--> 830\u001b[0m     \u001b[38;5;28;01mraise\u001b[39;00m \u001b[38;5;167;01mValueError\u001b[39;00m(msg)\n\u001b[1;32m    831\u001b[0m \u001b[38;5;28;01mif\u001b[39;00m s[\u001b[38;5;241m1\u001b[39m] \u001b[38;5;241m!=\u001b[39m \u001b[38;5;241m0\u001b[39m:\n\u001b[1;32m    832\u001b[0m     msg \u001b[38;5;241m=\u001b[39m \u001b[38;5;124m\"\u001b[39m\u001b[38;5;124mcannot decode image data\u001b[39m\u001b[38;5;124m\"\u001b[39m\n",
      "\u001b[0;31mValueError\u001b[0m: not enough image data"
     ]
    }
   ],
   "source": []
  },
  {
   "cell_type": "code",
   "execution_count": null,
   "id": "8176eb57-5867-4253-9e9a-7874aec0a06d",
   "metadata": {},
   "outputs": [],
   "source": []
  },
  {
   "cell_type": "code",
   "execution_count": null,
   "id": "1a58b81e-c974-4fe9-a41b-cbc48915ee40",
   "metadata": {},
   "outputs": [],
   "source": []
  },
  {
   "cell_type": "code",
   "execution_count": null,
   "id": "addd1b50-1a50-4f93-a347-a6f5c39188ab",
   "metadata": {},
   "outputs": [],
   "source": []
  },
  {
   "cell_type": "code",
   "execution_count": null,
   "id": "30fa219d-d621-4ba4-8096-bd295e844029",
   "metadata": {},
   "outputs": [],
   "source": []
  },
  {
   "cell_type": "markdown",
   "id": "bf3cc5f6-f69d-4e64-9e7f-635779ac680e",
   "metadata": {
    "tags": []
   },
   "source": [
    "# Environment"
   ]
  },
  {
   "cell_type": "code",
   "execution_count": 697,
   "id": "c2df2d9c-9d03-4048-8b61-499992a67412",
   "metadata": {
    "tags": []
   },
   "outputs": [],
   "source": [
    "class FingerprintEnv(object):\n",
    "    def __init__(self, df):\n",
    "        super(FingerprintEnv, self).__init__()\n",
    "        self.total_df = df\n",
    "        self.df = self.nextBatch()\n",
    "        self.filtered_df = self.df.copy()\n",
    "        self.currentState = self.imgState()\n",
    "        self.stateSpace = [0]\n",
    "        self.filter = {\n",
    "            'spike0': spike_range(min=df['spike0'].min(), max=df['spike0'].max()),\n",
    "            'spike1': spike_range(min=df['spike1'].min(), max=df['spike1'].max()),\n",
    "            'spike2': spike_range(min=df['spike2'].min(), max=df['spike2'].max()),\n",
    "            'spike3': spike_range(min=df['spike3'].min(), max=df['spike3'].max()),\n",
    "            'spike4': spike_range(min=df['spike4'].min(), max=df['spike4'].max()),\n",
    "            'spike5': spike_range(min=df['spike5'].min(), max=df['spike5'].max()),\n",
    "            'spike6': spike_range(min=df['spike6'].min(), max=df['spike6'].max()),\n",
    "            'spike7': spike_range(min=df['spike7'].min(), max=df['spike7'].max()),\n",
    "            'spike8': spike_range(min=df['spike8'].min(), max=df['spike8'].max())\n",
    "        }\n",
    "        self.actionSpace = {\n",
    "            \"spike0-maxUP\" : self.increment_max,\n",
    "            \"spike0-maxDOWN\" : self.decrement_max,\n",
    "            \"spike0-minUP\" : self.increment_min,\n",
    "            \"spike0-minDOWN\" : self.decrement_min,\n",
    "            \"spike1-maxUP\" : self.increment_max,\n",
    "            \"spike1-maxDOWN\" : self.decrement_max,\n",
    "            \"spike1-minUP\" : self.increment_min,\n",
    "            \"spike1-minDOWN\" : self.decrement_min,\n",
    "            \"spike2-maxUP\" : self.increment_max,\n",
    "            \"spike2-maxDOWN\" : self.decrement_max,\n",
    "            \"spike2-minUP\" : self.increment_min,\n",
    "            \"spike2-minDOWN\" : self.decrement_min,\n",
    "            \"spike3-maxUP\" : self.increment_max,\n",
    "            \"spike3-maxDOWN\" : self.decrement_max,\n",
    "            \"spike3-minUP\" : self.increment_min,\n",
    "            \"spike3-minDOWN\" : self.decrement_min,\n",
    "            \"spike4-maxUP\" : self.increment_max,\n",
    "            \"spike4-maxDOWN\" : self.decrement_max,\n",
    "            \"spike4-minUP\" : self.increment_min,\n",
    "            \"spike4-minDOWN\" : self.decrement_min,\n",
    "            \"spike5-maxUP\" : self.increment_max,\n",
    "            \"spike5-maxDOWN\" : self.decrement_max,\n",
    "            \"spike5-minUP\" : self.increment_min,\n",
    "            \"spike5-minDOWN\" : self.decrement_min,\n",
    "            \"spike6-maxUP\" : self.increment_max,\n",
    "            \"spike6-maxDOWN\" : self.decrement_max,\n",
    "            \"spike6-minUP\" : self.increment_min,\n",
    "            \"spike6-minDOWN\" : self.decrement_min,\n",
    "            \"spike7-maxUP\" : self.increment_max,\n",
    "            \"spike7-maxDOWN\" : self.decrement_max,\n",
    "            \"spike7-minUP\" : self.increment_min,\n",
    "            \"spike7-minDOWN\" : self.decrement_min,\n",
    "            \"spike8-maxUP\" : self.increment_max,\n",
    "            \"spike8-maxDOWN\" : self.decrement_max,\n",
    "            \"spike8-minUP\" : self.increment_min,\n",
    "            \"spike8-minDOWN\" : self.decrement_min,\n",
    "            \"noaction\" : None\n",
    "        }\n",
    "        self.possibleActions = list(self.actionSpace.keys())\n",
    "    def nextBatch(self):\n",
    "        sample = pd.Series(self.total_df.moniker.unique()).sample(10).unique().tolist()\n",
    "        df = self.total_df[self.total_df['moniker'].isin(sample)]\n",
    "        for key, val in df.moniker.value_counts().items():\n",
    "            if val < 5:\n",
    "                df = df[df['moniker']!=key]\n",
    "        return df\n",
    "    \n",
    "    def increment_max(self, spike):\n",
    "        spikeVal = self.filter[spike]\n",
    "        self.filter[spike] = spike_range(spikeVal[0], spikeVal[1] + .5)\n",
    "        return\n",
    "    \n",
    "    def decrement_max(self, spike):\n",
    "        spikeVal = self.filter[spike]\n",
    "        if spikeVal[1]-.5 >= spikeVal[0]:\n",
    "            self.filter[spike] = spike_range(spikeVal[0], spikeVal[1] - .5)\n",
    "        return\n",
    "    \n",
    "    def increment_min(self, spike):\n",
    "        spikeVal = self.filter[spike]\n",
    "        if spikeVal[0]+.5 <= spikeVal[1]:\n",
    "            self.filter[spike] = spike_range(spikeVal[0] + .5, spikeVal[1])\n",
    "        return\n",
    "    \n",
    "    def decrement_min(self, spike):\n",
    "        spikeVal = self.filter[spike]\n",
    "        self.filter[spike] = spike_range(spikeVal[0] - .5, spikeVal[1])\n",
    "        return\n",
    "    \n",
    "    def apply_filters(self):\n",
    "        self.filtered_df = self.df.copy()\n",
    "        for key,value in self.filter.items():\n",
    "            self.filtered_df = self.filtered_df[self.filtered_df[key].between(value[0], value[1])]\n",
    "        return\n",
    "    \n",
    "    def imgState(self):\n",
    "        img = Image.open(\n",
    "            io.BytesIO(\n",
    "                px.parallel_coordinates(\n",
    "                    self.filtered_df[[col for col in self.filtered_df.columns if col.startswith(\"spike\")]],\n",
    "                    height = 256,\n",
    "                    width = 256, \n",
    "                ).to_image(width=384, height=384)\n",
    "            )\n",
    "        )\n",
    "        img = transforms.functional.crop(img, top=60, left=60, height=324, width=324)\n",
    "        img = transforms.functional.rotate(img, 180)\n",
    "        img = transforms.functional.crop(img, top=68, left=68, height=256, width=256)\n",
    "        img = transforms.functional.rotate(img, 180)\n",
    "        img = transforms.functional.to_tensor(img)\n",
    "        img = transforms.functional.rgb_to_grayscale(img[:3], 1)\n",
    "        return img\n",
    "    \n",
    "    def get_reward(self, action):\n",
    "        monikers = self.filtered_df.moniker.unique().tolist()\n",
    "        total_possible = self.df[self.df.moniker.isin(monikers)].shape[0] # Grab the number of records for all monikers in total\n",
    "        current_total = self.filtered_df[self.filtered_df.moniker.isin(monikers)].shape[0] # Grab the number of records for all monikers within current filter\n",
    "        num_monikers = len(monikers)\n",
    "        if num_monikers == 0:\n",
    "            num_monikers = 10000\n",
    "        return (current_total/(num_monikers) - total_possible)\n",
    "    \n",
    "    def step(self, action):\n",
    "        ## Take the action\n",
    "        if action != \"noaction\":\n",
    "            self.actionSpace[action](action.split(\"-\")[0])\n",
    "            \n",
    "        ## Filter the data\n",
    "        self.apply_filters()\n",
    "        self.currentState = self.imgState()\n",
    "        reward = self.get_reward(action)\n",
    "        return self.currentState, reward, reward==0, None\n",
    "    \n",
    "    def reset(self):\n",
    "        self.df = self.nextBatch()\n",
    "        self.filtered_df = self.df.copy()\n",
    "        self.filter = {\n",
    "            'spike0': spike_range(min=self.df['spike0'].min(), max=self.df['spike0'].max()),\n",
    "            'spike1': spike_range(min=self.df['spike1'].min(), max=self.df['spike1'].max()),\n",
    "            'spike2': spike_range(min=self.df['spike2'].min(), max=self.df['spike2'].max()),\n",
    "            'spike3': spike_range(min=self.df['spike3'].min(), max=self.df['spike3'].max()),\n",
    "            'spike4': spike_range(min=self.df['spike4'].min(), max=self.df['spike4'].max()),\n",
    "            'spike5': spike_range(min=self.df['spike5'].min(), max=self.df['spike5'].max()),\n",
    "            'spike6': spike_range(min=self.df['spike6'].min(), max=self.df['spike6'].max()),\n",
    "            'spike7': spike_range(min=self.df['spike7'].min(), max=self.df['spike7'].max()),\n",
    "            'spike8': spike_range(min=self.df['spike8'].min(), max=self.df['spike8'].max())\n",
    "        }\n",
    "        self.currentState = self.imgState()\n",
    "        return self.currentState\n",
    "    \n",
    "    def render(self):\n",
    "        img = transforms.functional.to_pil_image(self.currentState)\n",
    "        display(img)\n",
    "        # fig,ax = plt.subplots(figsize=(28,28))\n",
    "        # ax.imshow(img)\n",
    "        # plt.show()\n",
    "        return"
   ]
  },
  {
   "cell_type": "markdown",
   "id": "dc240098-78a8-460c-bfb3-c7e340bb719e",
   "metadata": {
    "tags": []
   },
   "source": [
    "# DQN"
   ]
  },
  {
   "cell_type": "code",
   "execution_count": 698,
   "id": "0c7f191b-739c-4142-8add-4d882fe5893f",
   "metadata": {
    "tags": []
   },
   "outputs": [],
   "source": [
    "class DeepQNetwork(nn.Module):\n",
    "    def __init__(self, ALPHA):\n",
    "        super(DeepQNetwork, self).__init__()\n",
    "        #self.conv1 = nn.Conv2d(3, 32, 8, stride=4, padding=1)\n",
    "        self.conv1 = nn.Conv2d(1, 32, 8, stride=4, padding=1)\n",
    "        self.conv2 = nn.Conv2d(32, 64, 4, stride=2)\n",
    "        self.conv3 = nn.Conv2d(64, 128, 3)\n",
    "        #self.fc1 = nn.Linear(128*23*16, 512)\n",
    "        self.fc1 = nn.LazyLinear(512)\n",
    "        self.fc2 = nn.Linear(512, 37)\n",
    "        #self.optimizer = optim.SGD(self.parameters(), lr=self.ALPHA, momentum=0.9)\n",
    "        self.optimizer = optim.RMSprop(self.parameters(), lr=ALPHA)\n",
    "        self.loss = nn.MSELoss()\n",
    "        self.device = T.device('cuda:0' if T.cuda.is_available() else 'cpu')\n",
    "        self.to(self.device)\n",
    "\n",
    "    def forward(self, observation):\n",
    "        observation = T.Tensor(observation).to(self.device)\n",
    "        #observation = observation.view(-1, 3, 210, 160).to(self.device)\n",
    "        observation = observation.view(-1, 1, 256, 256)\n",
    "        observation = F.relu(self.conv1(observation))\n",
    "        observation = F.relu(self.conv2(observation))\n",
    "        observation = F.relu(self.conv3(observation))\n",
    "        #observation = observation.view(-1, 128*23*16).to(self.device)\n",
    "        observation = observation.view(-1, 128*28*28)\n",
    "        observation = F.relu(self.fc1(observation))\n",
    "        actions = self.fc2(observation)\n",
    "        return actions"
   ]
  },
  {
   "cell_type": "markdown",
   "id": "ed20b887-76c1-4bd2-ab15-2f739e75fc93",
   "metadata": {
    "tags": []
   },
   "source": [
    "# Agent"
   ]
  },
  {
   "cell_type": "code",
   "execution_count": 699,
   "id": "b57c7a1d-3096-4182-9401-8368f4616e3e",
   "metadata": {
    "tags": []
   },
   "outputs": [],
   "source": [
    "class Agent(object):\n",
    "    def __init__(self, gamma, epsilon, alpha,\n",
    "                 maxMemorySize, epsEnd=0.05,\n",
    "                 replace=10000, actionSpace=[0,1,2,3,4,5]):\n",
    "        self.GAMMA = gamma\n",
    "        self.EPSILON = epsilon\n",
    "        self.EPS_END = epsEnd\n",
    "        self.ALPHA = alpha\n",
    "        self.actionSpace = actionSpace\n",
    "        self.memSize = maxMemorySize\n",
    "        self.steps = 0\n",
    "        self.learn_step_counter = 0\n",
    "        self.memory = []\n",
    "        self.memCntr = 0\n",
    "        self.replace_target_cnt = replace\n",
    "        self.Q_eval = DeepQNetwork(alpha)\n",
    "        self.Q_next = DeepQNetwork(alpha)\n",
    "\n",
    "    def storeTransition(self, state, action, reward, state_):\n",
    "        if self.memCntr < self.memSize:\n",
    "            self.memory.append([state, action, reward, state_])\n",
    "        else:\n",
    "            self.memory[self.memCntr%self.memSize] = [state, action, reward, state_]\n",
    "        self.memCntr += 1\n",
    "\n",
    "    def chooseAction(self, observation):\n",
    "        rand = np.random.random()\n",
    "        actions = self.Q_eval.forward(observation)\n",
    "        if rand < 1 - self.EPSILON:\n",
    "            action = T.argmax(actions[1]).item()\n",
    "        else:\n",
    "            action = np.random.choice(self.actionSpace)\n",
    "        self.steps += 1\n",
    "        return action\n",
    "\n",
    "    def learn(self, batch_size):\n",
    "        self.Q_eval.optimizer.zero_grad()\n",
    "        if self.replace_target_cnt is not None and \\\n",
    "           self.learn_step_counter % self.replace_target_cnt == 0:\n",
    "            self.Q_next.load_state_dict(self.Q_eval.state_dict())\n",
    "\n",
    "        if self.memCntr+batch_size < self.memSize:\n",
    "            memStart = int(np.random.choice(range(self.memCntr)))\n",
    "        else:\n",
    "            memStart = int(np.random.choice(range(self.memSize-batch_size-1)))\n",
    "        miniBatch=self.memory[memStart:memStart+batch_size]\n",
    "        memory = np.array(miniBatch, dtype=object)\n",
    "\n",
    "        # convert to list because memory is an array of numpy objects\n",
    "        Qpred = self.Q_eval.forward(torch.stack(memory[:,0][:].tolist())).to(self.Q_eval.device)\n",
    "        Qnext = self.Q_next.forward(torch.stack(memory[:,3][:].tolist())).to(self.Q_eval.device)\n",
    "\n",
    "        maxA = T.argmax(Qnext, dim=1).to(self.Q_eval.device)\n",
    "        rewards = T.Tensor(list(memory[:,2])).to(self.Q_eval.device)\n",
    "        Qtarget = Qpred.clone()\n",
    "        indices = np.arange(batch_size)\n",
    "        Qtarget[indices,maxA] = rewards + self.GAMMA*T.max(Qnext[1])\n",
    "\n",
    "        if self.steps > 500:\n",
    "            if self.EPSILON - 1e-4 > self.EPS_END:\n",
    "                self.EPSILON -= 1e-4\n",
    "            else:\n",
    "                self.EPSILON = self.EPS_END\n",
    "\n",
    "        #Qpred.requires_grad_()\n",
    "        loss = self.Q_eval.loss(Qtarget, Qpred).to(self.Q_eval.device)\n",
    "        loss.backward()\n",
    "        self.Q_eval.optimizer.step()\n",
    "        self.learn_step_counter += 1\n"
   ]
  },
  {
   "cell_type": "markdown",
   "id": "4ca9b57a-61e0-48a9-89b8-660ed636590f",
   "metadata": {},
   "source": [
    "# Train the model"
   ]
  },
  {
   "cell_type": "code",
   "execution_count": 700,
   "id": "83614773-47e3-4a2a-9504-abed0090bdac",
   "metadata": {
    "tags": []
   },
   "outputs": [
    {
     "data": {
      "text/plain": [
       "(4185026, 11)"
      ]
     },
     "execution_count": 700,
     "metadata": {},
     "output_type": "execute_result"
    }
   ],
   "source": [
    "## Query the data from Mongo\n",
    "# df = pd.DataFrame(mongo.find({}))\n",
    "df.shape"
   ]
  },
  {
   "cell_type": "code",
   "execution_count": 701,
   "id": "ad3252a4-b1e4-44f2-b784-74c9d9fc2874",
   "metadata": {
    "tags": []
   },
   "outputs": [],
   "source": [
    "# save = brain.memory"
   ]
  },
  {
   "cell_type": "code",
   "execution_count": 702,
   "id": "7d13f0dc-e11b-4250-b064-1bee8d20e5f8",
   "metadata": {
    "tags": []
   },
   "outputs": [
    {
     "data": {
      "application/vnd.jupyter.widget-view+json": {
       "model_id": "4edf1bf19f2548539d6e9f6c5cbf0db4",
       "version_major": 2,
       "version_minor": 0
      },
      "text/plain": [
       "Memory Filler:   0%|          | 0/5000 [00:00<?, ?it/s]"
      ]
     },
     "metadata": {},
     "output_type": "display_data"
    },
    {
     "name": "stdout",
     "output_type": "stream",
     "text": [
      "done initializing memory\n"
     ]
    }
   ],
   "source": [
    "env = FingerprintEnv(df)\n",
    "brain = Agent(gamma=0.95, epsilon=1.0, alpha=0.003, maxMemorySize=5000, replace=None, actionSpace=env.possibleActions)\n",
    "bar = tqdm.tqdm(desc=\"Memory Filler\", total=5000)\n",
    "# while brain.memCntr < brain.memSize:\n",
    "#     observation = env.reset()\n",
    "#     done = False\n",
    "#     while not done:\n",
    "#         action = np.random.choice(env.possibleActions)\n",
    "#         observation_, reward, done, info = env.step(action)\n",
    "#         brain.storeTransition(observation, action, reward, observation_)\n",
    "#         observation = observation_\n",
    "#         bar.update()\n",
    "print('done initializing memory')"
   ]
  },
  {
   "cell_type": "code",
   "execution_count": 703,
   "id": "47bddbee-7ffa-4bab-a3bd-bb2bc5395634",
   "metadata": {
    "tags": []
   },
   "outputs": [],
   "source": [
    "brain.memory = save[:5000]"
   ]
  },
  {
   "cell_type": "code",
   "execution_count": 704,
   "id": "8c6e2ce7-aa55-48b4-a5ab-67825eb6e274",
   "metadata": {
    "tags": []
   },
   "outputs": [],
   "source": [
    "import warnings\n",
    "warnings.filterwarnings(\"ignore\")"
   ]
  },
  {
   "cell_type": "code",
   "execution_count": 707,
   "id": "ce768fa0-c020-404c-bdcf-0b7242691a0d",
   "metadata": {
    "tags": []
   },
   "outputs": [
    {
     "data": {
      "application/vnd.jupyter.widget-view+json": {
       "model_id": "3bda3782495841399ce84282dd8aadff",
       "version_major": 2,
       "version_minor": 0
      },
      "text/plain": [
       "Training:   0%|          | 0/50 [00:00<?, ?it/s]"
      ]
     },
     "metadata": {},
     "output_type": "display_data"
    },
    {
     "name": "stdout",
     "output_type": "stream",
     "text": [
      "Finding fp-1. Epsilon: 1.0\n"
     ]
    },
    {
     "data": {
      "image/png": "[encoded data removed]",
      "text/plain": [
       "<PIL.Image.Image image mode=L size=256x256>"
      ]
     },
     "metadata": {},
     "output_type": "display_data"
    },
    {
     "ename": "IndexError",
     "evalue": "index 1 is out of bounds for dimension 0 with size 1",
     "output_type": "error",
     "traceback": [
      "\u001b[0;31m---------------------------------------------------------------------------\u001b[0m",
      "\u001b[0;31mIndexError\u001b[0m                                Traceback (most recent call last)",
      "Cell \u001b[0;32mIn[707], line 19\u001b[0m\n\u001b[1;32m     16\u001b[0m lastAction \u001b[38;5;241m=\u001b[39m \u001b[38;5;241m0\u001b[39m\n\u001b[1;32m     17\u001b[0m \u001b[38;5;28;01mwhile\u001b[39;00m \u001b[38;5;129;01mnot\u001b[39;00m done:\n\u001b[1;32m     18\u001b[0m     \u001b[38;5;66;03m# print(observation)\u001b[39;00m\n\u001b[0;32m---> 19\u001b[0m     action \u001b[38;5;241m=\u001b[39m \u001b[43mbrain\u001b[49m\u001b[38;5;241;43m.\u001b[39;49m\u001b[43mchooseAction\u001b[49m\u001b[43m(\u001b[49m\u001b[43mobservation\u001b[49m\u001b[43m)\u001b[49m\n\u001b[1;32m     20\u001b[0m     \u001b[38;5;66;03m# print(action)\u001b[39;00m\n\u001b[1;32m     21\u001b[0m     observation_, reward, done, info \u001b[38;5;241m=\u001b[39m env\u001b[38;5;241m.\u001b[39mstep(action)\n",
      "Cell \u001b[0;32mIn[699], line 30\u001b[0m, in \u001b[0;36mAgent.chooseAction\u001b[0;34m(self, observation)\u001b[0m\n\u001b[1;32m     28\u001b[0m actions \u001b[38;5;241m=\u001b[39m \u001b[38;5;28mself\u001b[39m\u001b[38;5;241m.\u001b[39mQ_eval\u001b[38;5;241m.\u001b[39mforward(observation)\n\u001b[1;32m     29\u001b[0m \u001b[38;5;28;01mif\u001b[39;00m rand \u001b[38;5;241m<\u001b[39m \u001b[38;5;241m1\u001b[39m \u001b[38;5;241m-\u001b[39m \u001b[38;5;28mself\u001b[39m\u001b[38;5;241m.\u001b[39mEPSILON:\n\u001b[0;32m---> 30\u001b[0m     action \u001b[38;5;241m=\u001b[39m T\u001b[38;5;241m.\u001b[39margmax(\u001b[43mactions\u001b[49m\u001b[43m[\u001b[49m\u001b[38;5;241;43m1\u001b[39;49m\u001b[43m]\u001b[49m)\u001b[38;5;241m.\u001b[39mitem()\n\u001b[1;32m     31\u001b[0m \u001b[38;5;28;01melse\u001b[39;00m:\n\u001b[1;32m     32\u001b[0m     action \u001b[38;5;241m=\u001b[39m np\u001b[38;5;241m.\u001b[39mrandom\u001b[38;5;241m.\u001b[39mchoice(\u001b[38;5;28mself\u001b[39m\u001b[38;5;241m.\u001b[39mactionSpace)\n",
      "\u001b[0;31mIndexError\u001b[0m: index 1 is out of bounds for dimension 0 with size 1"
     ]
    }
   ],
   "source": [
    "scores = []\n",
    "epsHistory = []\n",
    "numGames = 50\n",
    "batch_size=32\n",
    "# uncomment the line below to record every episode.\n",
    "# env = wrappers.Monitor(env, \"tmp/space-invaders-1\", video_callable=lambda episode_id: True, force=True)\n",
    "bar = tqdm.tqdm(desc=\"Training\", total=numGames)\n",
    "for i in range(numGames):\n",
    "\n",
    "    print(f\"Finding fp-{i+1}. Epsilon: {brain.EPSILON}\")\n",
    "    env.render()\n",
    "    epsHistory.append(brain.EPSILON)\n",
    "    done = False\n",
    "    observation = env.reset()\n",
    "    score = 0\n",
    "    lastAction = 0\n",
    "    while not done:\n",
    "        # print(observation)\n",
    "        action = brain.chooseAction(observation)\n",
    "        # print(action)\n",
    "        observation_, reward, done, info = env.step(action)\n",
    "        # display(transforms.functional.to_pil_image(observation_))\n",
    "        # print(reward)\n",
    "        # print(done)\n",
    "        score += reward\n",
    "        # print(score)\n",
    "        brain.storeTransition(observation, action, reward, observation_)\n",
    "        # print(\"Stored\")\n",
    "        observation = observation_\n",
    "        brain.learn(batch_size)\n",
    "        lastAction = action\n",
    "    bar.update()\n",
    "    env.render()\n",
    "    scores.append(score)\n",
    "    print(f'score: {score}')\n",
    "plt.plot(scores)\n",
    "plt.show()"
   ]
  },
  {
   "cell_type": "code",
   "execution_count": null,
   "id": "9274a4d4-39ca-4da2-9bc4-159597e73b67",
   "metadata": {},
   "outputs": [],
   "source": []
  }
 ],
 "metadata": {
  "kernelspec": {
   "display_name": "Python 3 (ipykernel)",
   "language": "python",
   "name": "python3"
  },
  "language_info": {
   "codemirror_mode": {
    "name": "ipython",
    "version": 3
   },
   "file_extension": ".py",
   "mimetype": "text/x-python",
   "name": "python",
   "nbconvert_exporter": "python",
   "pygments_lexer": "ipython3",
   "version": "3.10.10"
  }
 },
 "nbformat": 4,
 "nbformat_minor": 5
}
